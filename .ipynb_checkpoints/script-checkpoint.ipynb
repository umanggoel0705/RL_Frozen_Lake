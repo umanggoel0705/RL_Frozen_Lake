{
 "cells": [
  {
   "cell_type": "code",
   "execution_count": 1,
   "metadata": {},
   "outputs": [],
   "source": [
    "import sys\n",
    "sys.path.append(r'C:\\Users\\umang\\miniconda3\\envs\\frozen_lake\\Lib\\site-packages')\n",
    "\n",
    "import numpy as np\n",
    "import gym\n",
    "import time\n",
    "import random\n",
    "from IPython.display import clear_output"
   ]
  },
  {
   "cell_type": "code",
   "execution_count": 15,
   "metadata": {},
   "outputs": [],
   "source": [
    "env = gym.make('FrozenLake-v1')"
   ]
  },
  {
   "cell_type": "code",
   "execution_count": 11,
   "metadata": {},
   "outputs": [
    {
     "name": "stdout",
     "output_type": "stream",
     "text": [
      "[[0. 0. 0. 0.]\n",
      " [0. 0. 0. 0.]\n",
      " [0. 0. 0. 0.]\n",
      " [0. 0. 0. 0.]\n",
      " [0. 0. 0. 0.]\n",
      " [0. 0. 0. 0.]\n",
      " [0. 0. 0. 0.]\n",
      " [0. 0. 0. 0.]\n",
      " [0. 0. 0. 0.]\n",
      " [0. 0. 0. 0.]\n",
      " [0. 0. 0. 0.]\n",
      " [0. 0. 0. 0.]\n",
      " [0. 0. 0. 0.]\n",
      " [0. 0. 0. 0.]\n",
      " [0. 0. 0. 0.]\n",
      " [0. 0. 0. 0.]]\n"
     ]
    }
   ],
   "source": [
    "\n",
    "action_space_size = env.action_space.n\n",
    "state_space_size = env.observation_space.n\n",
    "\n",
    "q_table = np.zeros((state_space_size, action_space_size))\n",
    "print(q_table)"
   ]
  },
  {
   "cell_type": "markdown",
   "metadata": {},
   "source": [
    "Algorithm Parameters"
   ]
  },
  {
   "cell_type": "code",
   "execution_count": 12,
   "metadata": {},
   "outputs": [],
   "source": [
    "num_episodes = 10000\n",
    "max_steps_per_episode = 100\n",
    "\n",
    "learning_rate = 0.1\n",
    "discount_rate = 0.99\n",
    "\n",
    "exploration_rate = 1\n",
    "max_exploration_rate = 1\n",
    "min_exploration_rate = 0.01\n",
    "exploration_decay_rate = 0.001"
   ]
  },
  {
   "cell_type": "code",
   "execution_count": 13,
   "metadata": {},
   "outputs": [
    {
     "name": "stderr",
     "output_type": "stream",
     "text": [
      "C:\\Users\\umang\\miniconda3\\envs\\frozen_lake\\Lib\\site-packages\\gym\\utils\\passive_env_checker.py:233: DeprecationWarning: `np.bool8` is a deprecated alias for `np.bool_`.  (Deprecated NumPy 1.24)\n",
      "  if not isinstance(terminated, (bool, np.bool8)):\n"
     ]
    },
    {
     "name": "stdout",
     "output_type": "stream",
     "text": [
      "*****Average Reward per Thousand Episodes*****\n",
      "1000  :  0.04100000000000003\n",
      "2000  :  0.21200000000000016\n",
      "3000  :  0.4280000000000003\n",
      "4000  :  0.5390000000000004\n",
      "5000  :  0.6260000000000004\n",
      "6000  :  0.6040000000000004\n",
      "7000  :  0.6760000000000005\n",
      "8000  :  0.6770000000000005\n",
      "9000  :  0.6810000000000005\n",
      "10000  :  0.6620000000000005\n",
      "********** Q-Table **********\n",
      "[[0.54451778 0.46189761 0.44782294 0.44924317]\n",
      " [0.29602911 0.24714453 0.25317347 0.46343004]\n",
      " [0.38001489 0.28636482 0.23943373 0.28488158]\n",
      " [0.09822985 0.13651335 0.01925512 0.02365021]\n",
      " [0.57950169 0.34585474 0.35930951 0.39331374]\n",
      " [0.         0.         0.         0.        ]\n",
      " [0.26022613 0.13349994 0.15877468 0.1243205 ]\n",
      " [0.         0.         0.         0.        ]\n",
      " [0.34351813 0.43500205 0.43468521 0.61196648]\n",
      " [0.44240293 0.66350667 0.33399446 0.34500529]\n",
      " [0.66708748 0.4367899  0.26261612 0.35745325]\n",
      " [0.         0.         0.         0.        ]\n",
      " [0.         0.         0.         0.        ]\n",
      " [0.37715817 0.52030239 0.75588581 0.47407925]\n",
      " [0.69319057 0.82744063 0.71608862 0.72564216]\n",
      " [0.         0.         0.         0.        ]]\n"
     ]
    }
   ],
   "source": [
    "rewards_all_episodes = []\n",
    "# Q-learning Algorithm\n",
    "for episode in range(num_episodes):\n",
    "    state, _ = env.reset()\n",
    "\n",
    "    reward_curr_episode = 0\n",
    "    done = False\n",
    "\n",
    "    for step in range(max_steps_per_episode):\n",
    "        # Exploration-Exploitation trade-off\n",
    "        exploration_rate_threshold = random.uniform(0,1)\n",
    "        if(exploration_rate_threshold > exploration_rate):\n",
    "            action = np.argmax(q_table[state,:])\n",
    "        else:\n",
    "            action = env.action_space.sample()\n",
    "\n",
    "        new_state, reward, done, terminated, info = env.step(action)\n",
    "        # Update Q-table for Q(s,a)\n",
    "        q_table[state, action] = (1-learning_rate)*q_table[state, action] + learning_rate*(reward + discount_rate*np.max(q_table[new_state, :]))\n",
    "        \n",
    "        state = new_state\n",
    "        reward_curr_episode += reward\n",
    "\n",
    "        if done == True:\n",
    "            break\n",
    "    \n",
    "    # Exploration Rate Decay\n",
    "    exploration_rate = min_exploration_rate + (max_exploration_rate - min_exploration_rate) * np.exp(-exploration_decay_rate*episode)\n",
    "    rewards_all_episodes.append(reward_curr_episode)\n",
    "\n",
    "# Calculate average reward per thousand episodes\n",
    "reward_per_thousand_episode = np.split(np.array(rewards_all_episodes), num_episodes/1000)\n",
    "count = 1000\n",
    "print(\"*****Average Reward per Thousand Episodes*****\")\n",
    "for r in reward_per_thousand_episode:\n",
    "    print(count, \" : \", str(sum(r/1000)))\n",
    "    count += 1000\n",
    "\n",
    "# Print Q-table\n",
    "print(\"********** Q-Table **********\")\n",
    "print(q_table)"
   ]
  },
  {
   "cell_type": "code",
   "execution_count": 16,
   "metadata": {},
   "outputs": [
    {
     "name": "stdout",
     "output_type": "stream",
     "text": [
      "**********Episode:  1 **********\n"
     ]
    },
    {
     "name": "stderr",
     "output_type": "stream",
     "text": [
      "C:\\Users\\umang\\miniconda3\\envs\\frozen_lake\\Lib\\site-packages\\gym\\envs\\toy_text\\frozen_lake.py:271: UserWarning: \u001b[33mWARN: You are calling render method without specifying any render mode. You can specify the render_mode at initialization, e.g. gym(\"FrozenLake-v1\", render_mode=\"rgb_array\")\u001b[0m\n",
      "  logger.warn(\n"
     ]
    },
    {
     "name": "stdout",
     "output_type": "stream",
     "text": [
      "Agent reached the goal\n",
      "**********Episode:  2 **********\n",
      "Agent reached the goal\n",
      "**********Episode:  3 **********\n",
      "Agent fell in a hole\n"
     ]
    }
   ],
   "source": [
    "for episode in range(3):\n",
    "    state, _ = env.reset()\n",
    "    done = False\n",
    "    print(\"**********Episode: \",episode+1,\"**********\")\n",
    "    time.sleep(1)\n",
    "\n",
    "    for step in range(max_steps_per_episode):\n",
    "        # clear_output(wait=True)\n",
    "        env.render()\n",
    "        time.sleep(0.3)\n",
    "\n",
    "        action = np.argmax(q_table[state,:])\n",
    "        new_state, reward, done, terminated, info = env.step(action)\n",
    "\n",
    "        if done:\n",
    "            # clear_output(wait=True)\n",
    "            env.render()\n",
    "            if reward == 1:\n",
    "                print(\"Agent reached the goal\")\n",
    "                # time.sleep(3)\n",
    "            else:\n",
    "                print(\"Agent fell in a hole\")\n",
    "            time.sleep(3)\n",
    "            # clear_output(wait=True)\n",
    "            break\n",
    "\n",
    "        state = new_state\n",
    "env.close()"
   ]
  }
 ],
 "metadata": {
  "kernelspec": {
   "display_name": "Python 3",
   "language": "python",
   "name": "python3"
  },
  "language_info": {
   "codemirror_mode": {
    "name": "ipython",
    "version": 3
   },
   "file_extension": ".py",
   "mimetype": "text/x-python",
   "name": "python",
   "nbconvert_exporter": "python",
   "pygments_lexer": "ipython3",
   "version": "3.12.0"
  }
 },
 "nbformat": 4,
 "nbformat_minor": 2
}
